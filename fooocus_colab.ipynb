{
  "cells": [
    {
      "cell_type": "code",
      "execution_count": 3,
      "metadata": {
        "id": "VjYy0F2gZIPR",
        "outputId": "f0826657-4121-41ef-a60e-9d8e6fbbca85",
        "colab": {
          "base_uri": "https://localhost:8080/",
          "height": 1000
        }
      },
      "outputs": [
        {
          "output_type": "stream",
          "name": "stdout",
          "text": [
            "Requirement already satisfied: dash in /usr/local/lib/python3.11/dist-packages (3.0.4)\n",
            "Requirement already satisfied: Flask<3.1,>=1.0.4 in /usr/local/lib/python3.11/dist-packages (from dash) (3.0.3)\n",
            "Requirement already satisfied: Werkzeug<3.1 in /usr/local/lib/python3.11/dist-packages (from dash) (3.0.6)\n",
            "Requirement already satisfied: plotly>=5.0.0 in /usr/local/lib/python3.11/dist-packages (from dash) (5.24.1)\n",
            "Requirement already satisfied: importlib-metadata in /usr/local/lib/python3.11/dist-packages (from dash) (8.7.0)\n",
            "Requirement already satisfied: typing-extensions>=4.1.1 in /usr/local/lib/python3.11/dist-packages (from dash) (4.13.2)\n",
            "Requirement already satisfied: requests in /usr/local/lib/python3.11/dist-packages (from dash) (2.32.3)\n",
            "Requirement already satisfied: retrying in /usr/local/lib/python3.11/dist-packages (from dash) (1.3.4)\n",
            "Requirement already satisfied: nest-asyncio in /usr/local/lib/python3.11/dist-packages (from dash) (1.6.0)\n",
            "Requirement already satisfied: setuptools in /usr/local/lib/python3.11/dist-packages (from dash) (75.2.0)\n",
            "Requirement already satisfied: Jinja2>=3.1.2 in /usr/local/lib/python3.11/dist-packages (from Flask<3.1,>=1.0.4->dash) (3.1.6)\n",
            "Requirement already satisfied: itsdangerous>=2.1.2 in /usr/local/lib/python3.11/dist-packages (from Flask<3.1,>=1.0.4->dash) (2.2.0)\n",
            "Requirement already satisfied: click>=8.1.3 in /usr/local/lib/python3.11/dist-packages (from Flask<3.1,>=1.0.4->dash) (8.2.0)\n",
            "Requirement already satisfied: blinker>=1.6.2 in /usr/local/lib/python3.11/dist-packages (from Flask<3.1,>=1.0.4->dash) (1.9.0)\n",
            "Requirement already satisfied: tenacity>=6.2.0 in /usr/local/lib/python3.11/dist-packages (from plotly>=5.0.0->dash) (9.1.2)\n",
            "Requirement already satisfied: packaging in /usr/local/lib/python3.11/dist-packages (from plotly>=5.0.0->dash) (24.2)\n",
            "Requirement already satisfied: MarkupSafe>=2.1.1 in /usr/local/lib/python3.11/dist-packages (from Werkzeug<3.1->dash) (3.0.2)\n",
            "Requirement already satisfied: zipp>=3.20 in /usr/local/lib/python3.11/dist-packages (from importlib-metadata->dash) (3.21.0)\n",
            "Requirement already satisfied: charset-normalizer<4,>=2 in /usr/local/lib/python3.11/dist-packages (from requests->dash) (3.4.2)\n",
            "Requirement already satisfied: idna<4,>=2.5 in /usr/local/lib/python3.11/dist-packages (from requests->dash) (3.10)\n",
            "Requirement already satisfied: urllib3<3,>=1.21.1 in /usr/local/lib/python3.11/dist-packages (from requests->dash) (2.4.0)\n",
            "Requirement already satisfied: certifi>=2017.4.17 in /usr/local/lib/python3.11/dist-packages (from requests->dash) (2025.4.26)\n",
            "Requirement already satisfied: six>=1.7.0 in /usr/local/lib/python3.11/dist-packages (from retrying->dash) (1.17.0)\n"
          ]
        },
        {
          "output_type": "display_data",
          "data": {
            "text/plain": [
              "<IPython.core.display.Javascript object>"
            ],
            "application/javascript": [
              "(async (port, path, width, height, cache, element) => {\n",
              "    if (!google.colab.kernel.accessAllowed && !cache) {\n",
              "      return;\n",
              "    }\n",
              "    element.appendChild(document.createTextNode(''));\n",
              "    const url = await google.colab.kernel.proxyPort(port, {cache});\n",
              "    const iframe = document.createElement('iframe');\n",
              "    iframe.src = new URL(path, url).toString();\n",
              "    iframe.height = height;\n",
              "    iframe.width = width;\n",
              "    iframe.style.border = 0;\n",
              "    iframe.allow = [\n",
              "        'accelerometer',\n",
              "        'autoplay',\n",
              "        'camera',\n",
              "        'clipboard-read',\n",
              "        'clipboard-write',\n",
              "        'gyroscope',\n",
              "        'magnetometer',\n",
              "        'microphone',\n",
              "        'serial',\n",
              "        'usb',\n",
              "        'xr-spatial-tracking',\n",
              "    ].join('; ');\n",
              "    element.appendChild(iframe);\n",
              "  })(8050, \"/\", \"100%\", 650, false, window.element)"
            ]
          },
          "metadata": {}
        }
      ],
      "source": [
        "!pip install dash\n",
        "\n",
        "import pandas as pd\n",
        "import plotly.graph_objs as go\n",
        "import dash\n",
        "from dash import html, dcc\n",
        "import numpy as np\n",
        "\n",
        "# Função para coletar dados da API do Banco Central\n",
        "def carregar_dados_bcb(codigo_serie, data_inicio, data_fim):\n",
        "    url = f\"https://api.bcb.gov.br/dados/serie/bcdata.sgs.{codigo_serie}/dados?formato=csv&dataInicial={data_inicio}&dataFinal={data_fim}\"\n",
        "    df = pd.read_csv(url, sep=';')\n",
        "    df['data'] = pd.to_datetime(df['data'], dayfirst=True)\n",
        "    df['valor'] = pd.to_numeric(df['valor'].str.replace(',', '.'), errors='coerce')\n",
        "    return df.rename(columns={'data': 'Data', 'valor': 'Valor'})\n",
        "\n",
        "# Período personalizável\n",
        "inicio = \"01/01/2021\"\n",
        "fim = \"31/03/2024\"\n",
        "\n",
        "# Códigos do SGS\n",
        "dados = {\n",
        "    'Selic': carregar_dados_bcb(4189, inicio, fim),\n",
        "    'IPCA': carregar_dados_bcb(433, inicio, fim),\n",
        "    'USD/BRL': carregar_dados_bcb(1, inicio, fim)\n",
        "}\n",
        "\n",
        "# Unificar as séries em um único dataframe\n",
        "df_merged = dados['Selic'].copy()\n",
        "df_merged.rename(columns={'Valor': 'Selic'}, inplace=True)\n",
        "\n",
        "for nome, df in dados.items():\n",
        "    if nome != 'Selic':\n",
        "        df_merged = pd.merge(df_merged, df[['Data', 'Valor']].rename(columns={'Valor': nome}), on='Data', how='outer')\n",
        "\n",
        "df_merged.sort_values('Data', inplace=True)\n",
        "df_merged.reset_index(drop=True, inplace=True)\n",
        "\n",
        "# App Dash\n",
        "app = dash.Dash(__name__)\n",
        "\n",
        "app.layout = html.Div(children=[\n",
        "    html.H1(\"Análise de Correlação: Selic, IPCA e USD/BRL\"),\n",
        "\n",
        "    dcc.Graph(\n",
        "        figure={\n",
        "            'data': [\n",
        "                go.Scatter(x=df_merged['Data'], y=df_merged['Selic'], name='Selic'),\n",
        "                go.Scatter(x=df_merged['Data'], y=df_merged['IPCA'], name='IPCA'),\n",
        "                go.Scatter(x=df_merged['Data'], y=df_merged['USD/BRL'], name='USD/BRL')\n",
        "            ],\n",
        "            'layout': go.Layout(title='Evolução Temporal das Séries', xaxis_title='Data', yaxis_title='Valor')\n",
        "        }\n",
        "    ),\n",
        "\n",
        "    html.H2(\"Mapa de Correlação\"),\n",
        "    dcc.Graph(\n",
        "        figure=go.Figure(\n",
        "            data=go.Heatmap(\n",
        "                z=df_merged[['Selic', 'IPCA', 'USD/BRL']].corr().values,\n",
        "                x=['Selic', 'IPCA', 'USD/BRL'],\n",
        "                y=['Selic', 'IPCA', 'USD/BRL'],\n",
        "                colorscale='Viridis',\n",
        "                zmin=-1, zmax=1\n",
        "            )\n",
        "        ).update_layout(title='Correlação entre Variáveis Econômicas')\n",
        "    )\n",
        "])\n",
        "\n",
        "if __name__ == '__main__':\n",
        "   app.run(debug=True)\n"
      ]
    },
    {
      "cell_type": "code",
      "source": [],
      "metadata": {
        "id": "Sr_7r3XIXucw"
      },
      "execution_count": null,
      "outputs": []
    }
  ],
  "metadata": {
    "accelerator": "GPU",
    "colab": {
      "gpuType": "T4",
      "provenance": []
    },
    "kernelspec": {
      "display_name": "Python 3",
      "name": "python3"
    },
    "language_info": {
      "name": "python"
    }
  },
  "nbformat": 4,
  "nbformat_minor": 0
}